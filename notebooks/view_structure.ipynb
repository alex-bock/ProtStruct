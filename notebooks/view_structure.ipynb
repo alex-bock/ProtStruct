{
 "cells": [
  {
   "cell_type": "code",
   "execution_count": null,
   "id": "e435817a",
   "metadata": {},
   "outputs": [],
   "source": [
    "import sys\n",
    "\n",
    "sys.path.append(\"../.\")"
   ]
  },
  {
   "cell_type": "code",
   "execution_count": null,
   "id": "80927f74-356a-49dd-9569-714929aa21a1",
   "metadata": {},
   "outputs": [],
   "source": [
    "from prot_struct.db import PDB\n",
    "\n",
    "pdb_db = PDB(download_loc=\"../data/structures/pdb/\")\n",
    "pdb_db.pull_record(\"1BXN\")\n",
    "\n",
    "pdb_rec = pdb_db.get_record(\"1BXN\")\n",
    "pdb_struct = pdb_rec.load_structure()"
   ]
  },
  {
   "cell_type": "code",
   "execution_count": null,
   "id": "14f26a6f-982f-4278-a6c1-ef82bdf0be55",
   "metadata": {},
   "outputs": [],
   "source": [
    "import nglview as nv\n",
    "\n",
    "nv.show_biopython(pdb_struct)"
   ]
  }
 ],
 "metadata": {
  "kernelspec": {
   "display_name": "Python 3 (ipykernel)",
   "language": "python",
   "name": "python3"
  },
  "language_info": {
   "codemirror_mode": {
    "name": "ipython",
    "version": 3
   },
   "file_extension": ".py",
   "mimetype": "text/x-python",
   "name": "python",
   "nbconvert_exporter": "python",
   "pygments_lexer": "ipython3",
   "version": "3.11.4"
  }
 },
 "nbformat": 4,
 "nbformat_minor": 5
}
