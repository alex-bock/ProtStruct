{
 "cells": [
  {
   "cell_type": "code",
   "execution_count": null,
   "id": "e435817a",
   "metadata": {},
   "outputs": [],
   "source": [
    "import sys\n",
    "\n",
    "sys.path.append(\"../.\")"
   ]
  },
  {
   "cell_type": "markdown",
   "id": "6bb7a74a",
   "metadata": {},
   "source": [
    "Instantiate PDB database and pull RuBisCo entry"
   ]
  },
  {
   "cell_type": "code",
   "execution_count": null,
   "id": "80927f74-356a-49dd-9569-714929aa21a1",
   "metadata": {},
   "outputs": [],
   "source": [
    "from prot_struct.db import PDB\n",
    "\n",
    "pdb_db = PDB(download_loc=\"../data/structures/pdb/\")\n",
    "pdb_db.pull_record(\"1BXN\")\n",
    "pdb_rec = pdb_db.get_record(\"1BXN\")"
   ]
  },
  {
   "cell_type": "markdown",
   "id": "0a867ef3",
   "metadata": {},
   "source": [
    "Visualize PDB record structure"
   ]
  },
  {
   "cell_type": "code",
   "execution_count": null,
   "id": "14f26a6f-982f-4278-a6c1-ef82bdf0be55",
   "metadata": {},
   "outputs": [],
   "source": [
    "import nglview as nv\n",
    "\n",
    "pdb_struct = pdb_rec.load_structure()\n",
    "nv.show_biopython(pdb_struct)"
   ]
  },
  {
   "cell_type": "markdown",
   "id": "2d212dcd",
   "metadata": {},
   "source": [
    "Find UniProt record(s) corresponding to 1BXN"
   ]
  },
  {
   "cell_type": "code",
   "execution_count": null,
   "id": "5860b492",
   "metadata": {},
   "outputs": [],
   "source": [
    "uniprot_ids = pdb_rec.get_entity_uniprot_ids()\n",
    "print(uniprot_ids)"
   ]
  },
  {
   "cell_type": "markdown",
   "id": "0289dbf4",
   "metadata": {},
   "source": [
    "Instantiate UniProt database and pull records for above accession IDs"
   ]
  },
  {
   "cell_type": "code",
   "execution_count": null,
   "id": "04867735",
   "metadata": {},
   "outputs": [],
   "source": [
    "from prot_struct.db import UniProt\n",
    "\n",
    "up_db = UniProt()\n",
    "for pdb_entity_id in uniprot_ids.keys():\n",
    "    for uniprot_id in uniprot_ids[pdb_entity_id]:\n",
    "        up_db.pull_record(uniprot_id)"
   ]
  },
  {
   "cell_type": "markdown",
   "id": "a9497b3e",
   "metadata": {},
   "source": [
    "Find corresponding PDB ids (we should find 1BXN...)"
   ]
  },
  {
   "cell_type": "code",
   "execution_count": null,
   "id": "5861f0b8",
   "metadata": {},
   "outputs": [],
   "source": [
    "for pdb_entity_id in uniprot_ids.keys():\n",
    "    for uniprot_id in uniprot_ids[pdb_entity_id]:\n",
    "        up_rec = up_db.get_record(uniprot_id)\n",
    "        pdb_ids = up_rec.get_pdb_entry_ids()\n",
    "        print(f\"{uniprot_id}: {pdb_ids}\")"
   ]
  }
 ],
 "metadata": {
  "kernelspec": {
   "display_name": "Python 3 (ipykernel)",
   "language": "python",
   "name": "python3"
  },
  "language_info": {
   "codemirror_mode": {
    "name": "ipython",
    "version": 3
   },
   "file_extension": ".py",
   "mimetype": "text/x-python",
   "name": "python",
   "nbconvert_exporter": "python",
   "pygments_lexer": "ipython3",
   "version": "3.11.4"
  }
 },
 "nbformat": 4,
 "nbformat_minor": 5
}
